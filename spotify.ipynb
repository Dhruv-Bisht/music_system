{
 "cells": [
  {
   "cell_type": "code",
   "execution_count": 1,
   "id": "64461028-267a-4c99-84c3-1187293c80eb",
   "metadata": {},
   "outputs": [],
   "source": [
    "import pandas as pd\n"
   ]
  },
  {
   "cell_type": "code",
   "execution_count": 3,
   "id": "5caf22ee-617a-4520-a5d4-079d76263e69",
   "metadata": {},
   "outputs": [],
   "source": [
    "df = pd.read_csv(\"spotify.csv\")"
   ]
  },
  {
   "cell_type": "code",
   "execution_count": 69,
   "id": "9b8ab616-b243-436e-8f0f-b3f7dd4dffd1",
   "metadata": {},
   "outputs": [
    {
     "data": {
      "text/html": [
       "<div>\n",
       "<style scoped>\n",
       "    .dataframe tbody tr th:only-of-type {\n",
       "        vertical-align: middle;\n",
       "    }\n",
       "\n",
       "    .dataframe tbody tr th {\n",
       "        vertical-align: top;\n",
       "    }\n",
       "\n",
       "    .dataframe thead th {\n",
       "        text-align: right;\n",
       "    }\n",
       "</style>\n",
       "<table border=\"1\" class=\"dataframe\">\n",
       "  <thead>\n",
       "    <tr style=\"text-align: right;\">\n",
       "      <th></th>\n",
       "      <th>artist_name</th>\n",
       "      <th>track_name</th>\n",
       "      <th>album_name</th>\n",
       "    </tr>\n",
       "  </thead>\n",
       "  <tbody>\n",
       "    <tr>\n",
       "      <th>98800</th>\n",
       "      <td>Ricardo Arjona</td>\n",
       "      <td>Me Enseñaste</td>\n",
       "      <td>Canciones De Amor</td>\n",
       "    </tr>\n",
       "    <tr>\n",
       "      <th>25698</th>\n",
       "      <td>Mumford &amp; Sons</td>\n",
       "      <td>Lovers' Eyes</td>\n",
       "      <td>Babel</td>\n",
       "    </tr>\n",
       "  </tbody>\n",
       "</table>\n",
       "</div>"
      ],
      "text/plain": [
       "          artist_name    track_name         album_name\n",
       "98800  Ricardo Arjona  Me Enseñaste  Canciones De Amor\n",
       "25698  Mumford & Sons  Lovers' Eyes              Babel"
      ]
     },
     "execution_count": 69,
     "metadata": {},
     "output_type": "execute_result"
    }
   ],
   "source": []
  },
  {
   "cell_type": "code",
   "execution_count": 9,
   "id": "86438af4-d2fc-4e52-bcc5-52b285167ed8",
   "metadata": {},
   "outputs": [
    {
     "data": {
      "text/plain": [
       "spotify_track_uri      0\n",
       "ts                     0\n",
       "platform               0\n",
       "ms_played              0\n",
       "track_name             0\n",
       "artist_name            0\n",
       "album_name             0\n",
       "reason_start         143\n",
       "reason_end           117\n",
       "shuffle                0\n",
       "skipped                0\n",
       "dtype: int64"
      ]
     },
     "execution_count": 9,
     "metadata": {},
     "output_type": "execute_result"
    }
   ],
   "source": [
    "df.isnull().sum()"
   ]
  },
  {
   "cell_type": "code",
   "execution_count": 11,
   "id": "c0ae2842-91ec-4939-9df1-2ea781fa4cc5",
   "metadata": {},
   "outputs": [],
   "source": [
    "# Creating a new data set in which these 3 entity is used\n",
    "df = df[['artist_name','track_name','album_name']]"
   ]
  },
  {
   "cell_type": "code",
   "execution_count": 116,
   "id": "bbc72eac-745f-4f3b-8633-a54bb585d0a4",
   "metadata": {},
   "outputs": [],
   "source": [
    "df = df.sample(5000).reset_index(drop=True)"
   ]
  },
  {
   "cell_type": "code",
   "execution_count": 117,
   "id": "caf938ac-13ce-4ec3-b587-3dfa20918bd8",
   "metadata": {},
   "outputs": [
    {
     "data": {
      "text/html": [
       "<div>\n",
       "<style scoped>\n",
       "    .dataframe tbody tr th:only-of-type {\n",
       "        vertical-align: middle;\n",
       "    }\n",
       "\n",
       "    .dataframe tbody tr th {\n",
       "        vertical-align: top;\n",
       "    }\n",
       "\n",
       "    .dataframe thead th {\n",
       "        text-align: right;\n",
       "    }\n",
       "</style>\n",
       "<table border=\"1\" class=\"dataframe\">\n",
       "  <thead>\n",
       "    <tr style=\"text-align: right;\">\n",
       "      <th></th>\n",
       "      <th>artist_name</th>\n",
       "      <th>track_name</th>\n",
       "      <th>album_name</th>\n",
       "      <th>text</th>\n",
       "    </tr>\n",
       "  </thead>\n",
       "  <tbody>\n",
       "    <tr>\n",
       "      <th>0</th>\n",
       "      <td>Illya Kuryaki &amp; The Valderramas</td>\n",
       "      <td>Jennifer Del Estero</td>\n",
       "      <td>Leche</td>\n",
       "      <td>Leche</td>\n",
       "    </tr>\n",
       "    <tr>\n",
       "      <th>1</th>\n",
       "      <td>Imagine Dragons</td>\n",
       "      <td>I’ll Make It Up To You</td>\n",
       "      <td>Evolve</td>\n",
       "      <td>Evolve</td>\n",
       "    </tr>\n",
       "    <tr>\n",
       "      <th>2</th>\n",
       "      <td>The White Stripes</td>\n",
       "      <td>Do</td>\n",
       "      <td>The White Stripes</td>\n",
       "      <td>The White Stripes</td>\n",
       "    </tr>\n",
       "  </tbody>\n",
       "</table>\n",
       "</div>"
      ],
      "text/plain": [
       "                       artist_name              track_name         album_name  \\\n",
       "0  Illya Kuryaki & The Valderramas     Jennifer Del Estero              Leche   \n",
       "1                  Imagine Dragons  I’ll Make It Up To You             Evolve   \n",
       "2                The White Stripes                      Do  The White Stripes   \n",
       "\n",
       "                text  \n",
       "0              Leche  \n",
       "1             Evolve  \n",
       "2  The White Stripes  "
      ]
     },
     "execution_count": 117,
     "metadata": {},
     "output_type": "execute_result"
    }
   ],
   "source": [
    "df.head(3)"
   ]
  },
  {
   "cell_type": "code",
   "execution_count": 118,
   "id": "c5b416f5-0633-482e-930d-84325dba4d31",
   "metadata": {},
   "outputs": [],
   "source": [
    "# TEXT CLEANING AND TEXT PROCESSING"
   ]
  },
  {
   "cell_type": "code",
   "execution_count": 119,
   "id": "62b394a8-1159-485d-ad52-7a53dfe3151e",
   "metadata": {},
   "outputs": [
    {
     "name": "stderr",
     "output_type": "stream",
     "text": [
      "[nltk_data] Downloading package punkt_tab to\n",
      "[nltk_data]     C:\\Users\\dhruv\\AppData\\Roaming\\nltk_data...\n",
      "[nltk_data]   Package punkt_tab is already up-to-date!\n"
     ]
    },
    {
     "data": {
      "text/plain": [
       "True"
      ]
     },
     "execution_count": 119,
     "metadata": {},
     "output_type": "execute_result"
    }
   ],
   "source": [
    "import nltk\n",
    "from nltk.stem.porter import PorterStemmer\n",
    "from nltk.tokenize import word_tokenize\n",
    "nltk.download(\"punkt_tab\")"
   ]
  },
  {
   "cell_type": "code",
   "execution_count": 120,
   "id": "1f985e67-82af-4408-bce1-ceb7422f9e94",
   "metadata": {},
   "outputs": [],
   "source": [
    "stemmer = PorterStemmer()"
   ]
  },
  {
   "cell_type": "code",
   "execution_count": 121,
   "id": "4c477438-502e-4345-8dae-efa41fe8184d",
   "metadata": {},
   "outputs": [],
   "source": [
    "# comverting the Text into the Token\n",
    "def tokens(txt):\n",
    "    token = nltk.word_tokenize(txt)\n",
    "    a = [stemmer.stem(w) for w in token]\n",
    "    return \" \".join(a)"
   ]
  },
  {
   "cell_type": "code",
   "execution_count": 122,
   "id": "c3156350-7b4b-4ce5-8a71-0b8f80f2f7b4",
   "metadata": {},
   "outputs": [],
   "source": [
    "df['text'] = df['album_name']"
   ]
  },
  {
   "cell_type": "code",
   "execution_count": 123,
   "id": "8fff3feb-d5c9-49fb-aca5-d4e688f899ef",
   "metadata": {},
   "outputs": [
    {
     "data": {
      "text/plain": [
       "0                                                    lech\n",
       "1                                                   evolv\n",
       "2                                        the white stripe\n",
       "3       dean martin : the capitol record , vol . 11 ( ...\n",
       "4                                               continuum\n",
       "                              ...                        \n",
       "4995                                       back to bedlam\n",
       "4996          histori - past , present and futur - book i\n",
       "4997                                     implod the mirag\n",
       "4998    quentin tarantino 's onc upon a time in hollyw...\n",
       "4999                                                    +\n",
       "Name: text, Length: 5000, dtype: object"
      ]
     },
     "execution_count": 123,
     "metadata": {},
     "output_type": "execute_result"
    }
   ],
   "source": [
    "# to apply to all the data set \n",
    "df['text'].apply(lambda x: token(x))"
   ]
  },
  {
   "cell_type": "code",
   "execution_count": 124,
   "id": "cebfd01c-3f13-48dc-8b8f-e478baca48dd",
   "metadata": {},
   "outputs": [],
   "source": [
    "from sklearn.feature_extraction.text import TfidfVectorizer\n",
    "from sklearn.metrics.pairwise import cosine_similarity"
   ]
  },
  {
   "cell_type": "code",
   "execution_count": 125,
   "id": "a6bb0766-e585-4dfb-a467-37c8ef359b17",
   "metadata": {},
   "outputs": [],
   "source": [
    "tfid = TfidfVectorizer(analyzer=\"word\",stop_words=\"english\")"
   ]
  },
  {
   "cell_type": "code",
   "execution_count": 126,
   "id": "107d6158-7e2e-4add-be68-182ee3c16b69",
   "metadata": {},
   "outputs": [],
   "source": [
    "matrix = tfid.fit_transform(df['text'])"
   ]
  },
  {
   "cell_type": "code",
   "execution_count": 127,
   "id": "69d5f81d-c6a4-4df0-8093-a5ce31f4f66e",
   "metadata": {},
   "outputs": [],
   "source": [
    "similar = cosine_similarity(matrix)"
   ]
  },
  {
   "cell_type": "code",
   "execution_count": 128,
   "id": "cb36c43f-df50-4dbf-a46d-d6181f5fd58b",
   "metadata": {},
   "outputs": [
    {
     "data": {
      "text/plain": [
       "725"
      ]
     },
     "execution_count": 128,
     "metadata": {},
     "output_type": "execute_result"
    }
   ],
   "source": [
    "df[df['track_name'] == \"Lovers' Eyes\"].index[0]"
   ]
  },
  {
   "cell_type": "code",
   "execution_count": 129,
   "id": "e7e2bffb-6227-48bc-ad85-a8f747633182",
   "metadata": {},
   "outputs": [],
   "source": [
    "# CREATING A RECCOMENDER FUNCTION"
   ]
  },
  {
   "cell_type": "code",
   "execution_count": 132,
   "id": "963cfed0-19a1-4037-98a2-7f2dda0ae442",
   "metadata": {},
   "outputs": [],
   "source": [
    "def reccomender(song_name):\n",
    "    idx = df[df['track_name'] == song_name].index[0]\n",
    "    distance = sorted(list(enumerate(similar[idx])), reverse=True, key= lambda x:x[1])\n",
    "    song = []\n",
    "    # means show only first 5 song\n",
    "    for s_id in distance[1:5]:\n",
    "        song.append(df.iloc[s_id[0]]['track_name'])\n",
    "    return song"
   ]
  },
  {
   "cell_type": "code",
   "execution_count": 135,
   "id": "fdaeba93-0d23-4dda-8b72-2b8c70488a80",
   "metadata": {},
   "outputs": [],
   "source": [
    "# reccomender(\"I’ll Make It Up To You\")"
   ]
  },
  {
   "cell_type": "code",
   "execution_count": 141,
   "id": "dab3d038-89b9-48c7-9dfd-f63769eba4a3",
   "metadata": {},
   "outputs": [],
   "source": [
    "import pickle"
   ]
  },
  {
   "cell_type": "code",
   "execution_count": 142,
   "id": "436544e7-2eac-427b-bdac-86cb8c8d9d33",
   "metadata": {},
   "outputs": [],
   "source": [
    "pickle.dump(similar,open(\"similarity\",\"wb\"))"
   ]
  },
  {
   "cell_type": "code",
   "execution_count": 143,
   "id": "919b2c28-6f80-4131-8a4c-5b3eb7abfc7c",
   "metadata": {},
   "outputs": [],
   "source": [
    "pickle.dump(df,open(\"df\",\"wb\"))"
   ]
  },
  {
   "cell_type": "code",
   "execution_count": null,
   "id": "77783c9e-c4d1-4fa4-b2e2-a32a34363f8d",
   "metadata": {},
   "outputs": [],
   "source": []
  }
 ],
 "metadata": {
  "kernelspec": {
   "display_name": "Python 3 (ipykernel)",
   "language": "python",
   "name": "python3"
  },
  "language_info": {
   "codemirror_mode": {
    "name": "ipython",
    "version": 3
   },
   "file_extension": ".py",
   "mimetype": "text/x-python",
   "name": "python",
   "nbconvert_exporter": "python",
   "pygments_lexer": "ipython3",
   "version": "3.11.3"
  }
 },
 "nbformat": 4,
 "nbformat_minor": 5
}
